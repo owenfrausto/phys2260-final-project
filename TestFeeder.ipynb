{
 "cells": [
  {
   "cell_type": "code",
   "execution_count": 79,
   "id": "88761070-76ff-495e-986d-56a1ca1e6743",
   "metadata": {},
   "outputs": [
    {
     "name": "stdout",
     "output_type": "stream",
     "text": [
      "The autoreload extension is already loaded. To reload it, use:\n",
      "  %reload_ext autoreload\n"
     ]
    }
   ],
   "source": [
    "%load_ext autoreload\n",
    "%autoreload 2\n",
    "\n",
    "from powerflow import PowerflowProblem, Line, PQBus, PVBus, SlackBus"
   ]
  },
  {
   "cell_type": "code",
   "execution_count": 80,
   "id": "def81455-d9bd-48e4-97fa-bb55da749360",
   "metadata": {},
   "outputs": [],
   "source": [
    "%reload_ext autoreload"
   ]
  },
  {
   "cell_type": "code",
   "execution_count": 83,
   "id": "ee71d08e-3fda-4210-b538-4db78dbc0876",
   "metadata": {},
   "outputs": [],
   "source": [
    "# Define basic problem\n",
    "bus1 = PQBus(1, Pd=1.0, Qd=0.5)                        # 1 MW, 0.5 MVAR load\n",
    "bus2 = PVBus(2, Pg=1.2, Vspec=1.0)                     # Generator at 1.2 MW, voltage regulated at 1.0 p.u.\n",
    "bus3 = SlackBus(3, Vspec=1.0, theta_spec=0.0)          # Reference bus\n",
    "\n",
    "line1 = Line(bus1, bus2, 0.0005, 0.005)\n",
    "line2 = Line(bus2, bus3, 0.001, 0.007)\n",
    "\n",
    "problem = PowerflowProblem(\n",
    "    buses = [bus1, bus2, bus3],\n",
    "    lines = [line1, line2],\n",
    ")"
   ]
  },
  {
   "cell_type": "code",
   "execution_count": 84,
   "id": "c1568cf0-dc26-4372-b431-1ab3a8dab047",
   "metadata": {},
   "outputs": [
    {
     "data": {
      "text/plain": [
       "array([[ 19.8019802-198.01980198j, -19.8019802+198.01980198j,\n",
       "          0.         +0.j        ],\n",
       "       [-19.8019802+198.01980198j,  39.8019802-338.01980198j,\n",
       "        -20.       +140.j        ],\n",
       "       [  0.         +0.j        , -20.       +140.j        ,\n",
       "         20.       -140.j        ]])"
      ]
     },
     "execution_count": 84,
     "metadata": {},
     "output_type": "execute_result"
    }
   ],
   "source": [
    "problem.make_Y_matrix()"
   ]
  }
 ],
 "metadata": {
  "kernelspec": {
   "display_name": "Python 3 (ipykernel)",
   "language": "python",
   "name": "python3"
  },
  "language_info": {
   "codemirror_mode": {
    "name": "ipython",
    "version": 3
   },
   "file_extension": ".py",
   "mimetype": "text/x-python",
   "name": "python",
   "nbconvert_exporter": "python",
   "pygments_lexer": "ipython3",
   "version": "3.12.0"
  }
 },
 "nbformat": 4,
 "nbformat_minor": 5
}
