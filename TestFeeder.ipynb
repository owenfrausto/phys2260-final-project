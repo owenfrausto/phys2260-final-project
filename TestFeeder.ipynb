{
 "cells": [
  {
   "cell_type": "code",
   "execution_count": 27,
   "id": "88761070-76ff-495e-986d-56a1ca1e6743",
   "metadata": {},
   "outputs": [
    {
     "name": "stdout",
     "output_type": "stream",
     "text": [
      "The autoreload extension is already loaded. To reload it, use:\n",
      "  %reload_ext autoreload\n"
     ]
    }
   ],
   "source": [
    "%load_ext autoreload\n",
    "%autoreload 2\n",
    "\n",
    "from powerflow import PowerflowProblem, Line, Bus, Load"
   ]
  },
  {
   "cell_type": "code",
   "execution_count": 28,
   "id": "def81455-d9bd-48e4-97fa-bb55da749360",
   "metadata": {},
   "outputs": [],
   "source": [
    "%reload_ext autoreload"
   ]
  },
  {
   "cell_type": "code",
   "execution_count": 39,
   "id": "ee71d08e-3fda-4210-b538-4db78dbc0876",
   "metadata": {},
   "outputs": [],
   "source": [
    "# Define basic problem\n",
    "bus1 = Bus(1, \"PQ\")\n",
    "bus2 = Bus(2, \"Slack\")\n",
    "bus3 = Bus(3, \"PV\")\n",
    "\n",
    "line1 = Line(bus1, bus2, 4.0, 4.0)\n",
    "line2 = Line(bus2, bus3, 4.0, 4.0)\n",
    "\n",
    "problem = PowerflowProblem(\n",
    "    buses = [bus1, bus2, bus3],\n",
    "    lines = [line1, line2]\n",
    ")"
   ]
  },
  {
   "cell_type": "code",
   "execution_count": 40,
   "id": "c1568cf0-dc26-4372-b431-1ab3a8dab047",
   "metadata": {},
   "outputs": [
    {
     "ename": "Exception",
     "evalue": "Unimplemented: PowerlowProblem make_Y_matrix()",
     "output_type": "error",
     "traceback": [
      "\u001b[1;31m---------------------------------------------------------------------------\u001b[0m",
      "\u001b[1;31mException\u001b[0m                                 Traceback (most recent call last)",
      "Cell \u001b[1;32mIn[40], line 1\u001b[0m\n\u001b[1;32m----> 1\u001b[0m \u001b[43mproblem\u001b[49m\u001b[38;5;241;43m.\u001b[39;49m\u001b[43mmake_Y_matrix\u001b[49m\u001b[43m(\u001b[49m\u001b[43m)\u001b[49m\n",
      "File \u001b[1;32m~\\OneDrive\\Documents\\GitHub\\phys2260-final-project\\powerflow.py:76\u001b[0m, in \u001b[0;36mPowerflowProblem.make_Y_matrix\u001b[1;34m(self)\u001b[0m\n\u001b[0;32m     73\u001b[0m     \u001b[38;5;28;01mraise\u001b[39;00m \u001b[38;5;167;01mException\u001b[39;00m(\u001b[38;5;124m\"\u001b[39m\u001b[38;5;124mInvalid PowerflowProblem\u001b[39m\u001b[38;5;124m\"\u001b[39m)\n\u001b[0;32m     75\u001b[0m Y \u001b[38;5;241m=\u001b[39m np\u001b[38;5;241m.\u001b[39mzeros(\u001b[38;5;241m4\u001b[39m)\n\u001b[1;32m---> 76\u001b[0m \u001b[38;5;28;01mraise\u001b[39;00m \u001b[38;5;167;01mException\u001b[39;00m(\u001b[38;5;124m\"\u001b[39m\u001b[38;5;124mUnimplemented: PowerlowProblem make_Y_matrix()\u001b[39m\u001b[38;5;124m\"\u001b[39m)\n\u001b[0;32m     77\u001b[0m \u001b[38;5;28mself\u001b[39m\u001b[38;5;241m.\u001b[39mY \u001b[38;5;241m=\u001b[39m Y\n",
      "\u001b[1;31mException\u001b[0m: Unimplemented: PowerlowProblem make_Y_matrix()"
     ]
    }
   ],
   "source": [
    "problem.make_Y_matrix()"
   ]
  }
 ],
 "metadata": {
  "kernelspec": {
   "display_name": "Python 3 (ipykernel)",
   "language": "python",
   "name": "python3"
  },
  "language_info": {
   "codemirror_mode": {
    "name": "ipython",
    "version": 3
   },
   "file_extension": ".py",
   "mimetype": "text/x-python",
   "name": "python",
   "nbconvert_exporter": "python",
   "pygments_lexer": "ipython3",
   "version": "3.12.0"
  }
 },
 "nbformat": 4,
 "nbformat_minor": 5
}
